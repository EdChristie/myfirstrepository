{
 "cells": [
  {
   "cell_type": "markdown",
   "metadata": {},
   "source": [
    "Coursera assignment: Toronto Neighborhoods - Part 1"
   ]
  },
  {
   "cell_type": "markdown",
   "metadata": {},
   "source": [
    "In this part, I use pandas to extract a table from a wikipedia page into a data frame, which I then clean"
   ]
  },
  {
   "cell_type": "code",
   "execution_count": 58,
   "metadata": {},
   "outputs": [],
   "source": [
    "import pandas as pd"
   ]
  },
  {
   "cell_type": "code",
   "execution_count": 59,
   "metadata": {},
   "outputs": [],
   "source": [
    "pd.set_option('display.expand_frame_repr', False) # enables viewing all columns"
   ]
  },
  {
   "cell_type": "code",
   "execution_count": 60,
   "metadata": {},
   "outputs": [],
   "source": [
    "url = 'https://en.wikipedia.org/wiki/List_of_postal_codes_of_Canada:_M'"
   ]
  },
  {
   "cell_type": "code",
   "execution_count": 61,
   "metadata": {},
   "outputs": [],
   "source": [
    "dfs=pd.read_html(url, header=0) # read data frames from the designated url (there might be more than one)"
   ]
  },
  {
   "cell_type": "markdown",
   "metadata": {},
   "source": [
    "There's more than one data frame on the page, but I only want the first one, so I loop through them and store the first"
   ]
  },
  {
   "cell_type": "code",
   "execution_count": 62,
   "metadata": {},
   "outputs": [],
   "source": [
    "x=0\n",
    "for df in dfs:\n",
    "    if x==0:\n",
    "        nbdf=df\n",
    "    x=x+1"
   ]
  },
  {
   "cell_type": "code",
   "execution_count": 63,
   "metadata": {},
   "outputs": [
    {
     "name": "stdout",
     "output_type": "stream",
     "text": [
      "    Postal Code           Borough                                       Neighborhood\n",
      "0           M1A      Not assigned                                       Not assigned\n",
      "1           M2A      Not assigned                                       Not assigned\n",
      "2           M3A        North York                                          Parkwoods\n",
      "3           M4A        North York                                   Victoria Village\n",
      "4           M5A  Downtown Toronto                          Regent Park, Harbourfront\n",
      "..          ...               ...                                                ...\n",
      "175         M5Z      Not assigned                                       Not assigned\n",
      "176         M6Z      Not assigned                                       Not assigned\n",
      "177         M7Z      Not assigned                                       Not assigned\n",
      "178         M8Z         Etobicoke  Mimico NW, The Queensway West, South of Bloor,...\n",
      "179         M9Z      Not assigned                                       Not assigned\n",
      "\n",
      "[180 rows x 3 columns]\n"
     ]
    }
   ],
   "source": [
    "print(nbdf)"
   ]
  },
  {
   "cell_type": "markdown",
   "metadata": {},
   "source": [
    "I will now create a data frame that excludes the rows where the Borough is Not assigned"
   ]
  },
  {
   "cell_type": "code",
   "execution_count": 64,
   "metadata": {},
   "outputs": [
    {
     "name": "stdout",
     "output_type": "stream",
     "text": [
      "    Postal Code           Borough                                       Neighborhood\n",
      "2           M3A        North York                                          Parkwoods\n",
      "3           M4A        North York                                   Victoria Village\n",
      "4           M5A  Downtown Toronto                          Regent Park, Harbourfront\n",
      "5           M6A        North York                   Lawrence Manor, Lawrence Heights\n",
      "6           M7A  Downtown Toronto        Queen's Park, Ontario Provincial Government\n",
      "..          ...               ...                                                ...\n",
      "160         M8X         Etobicoke      The Kingsway, Montgomery Road, Old Mill North\n",
      "165         M4Y  Downtown Toronto                               Church and Wellesley\n",
      "168         M7Y      East Toronto  Business reply mail Processing Centre, South C...\n",
      "169         M8Y         Etobicoke  Old Mill South, King's Mill Park, Sunnylea, Hu...\n",
      "178         M8Z         Etobicoke  Mimico NW, The Queensway West, South of Bloor,...\n",
      "\n",
      "[103 rows x 3 columns]\n"
     ]
    }
   ],
   "source": [
    "nbdf2=nbdf[nbdf['Borough']!='Not assigned']\n",
    "print(nbdf2)"
   ]
  },
  {
   "cell_type": "markdown",
   "metadata": {},
   "source": [
    "I will now check whether 'Not assigned' appears under the Neighborhood column - if not I'll get an empty data frame "
   ]
  },
  {
   "cell_type": "code",
   "execution_count": 65,
   "metadata": {},
   "outputs": [
    {
     "name": "stdout",
     "output_type": "stream",
     "text": [
      "Empty DataFrame\n",
      "Columns: [Postal Code, Borough, Neighborhood]\n",
      "Index: []\n"
     ]
    }
   ],
   "source": [
    "print(nbdf2[nbdf2['Neighborhood']=='Not assigned'])"
   ]
  },
  {
   "cell_type": "markdown",
   "metadata": {},
   "source": [
    "In the assignment instructions, it is stated that there are duplicate postal codes, however I show this is not the case"
   ]
  },
  {
   "cell_type": "code",
   "execution_count": 66,
   "metadata": {},
   "outputs": [
    {
     "data": {
      "text/plain": [
       "False"
      ]
     },
     "execution_count": 66,
     "metadata": {},
     "output_type": "execute_result"
    }
   ],
   "source": [
    "nbdf2.duplicated(['Postal Code']).any()"
   ]
  },
  {
   "cell_type": "markdown",
   "metadata": {},
   "source": [
    "There are no remaining cases of either the Borough or the Neighboorhood being 'Not assigned', and there are no\n",
    "duplicate postal codes. I will now display the number of remaining rows as per the instructions"
   ]
  },
  {
   "cell_type": "code",
   "execution_count": 67,
   "metadata": {},
   "outputs": [
    {
     "data": {
      "text/plain": [
       "(103, 3)"
      ]
     },
     "execution_count": 67,
     "metadata": {},
     "output_type": "execute_result"
    }
   ],
   "source": [
    "nbdf2.shape"
   ]
  },
  {
   "cell_type": "markdown",
   "metadata": {},
   "source": [
    "The first part of the assignment has been completed"
   ]
  }
 ],
 "metadata": {
  "kernelspec": {
   "display_name": "Python 3",
   "language": "python",
   "name": "python3"
  },
  "language_info": {
   "codemirror_mode": {
    "name": "ipython",
    "version": 3
   },
   "file_extension": ".py",
   "mimetype": "text/x-python",
   "name": "python",
   "nbconvert_exporter": "python",
   "pygments_lexer": "ipython3",
   "version": "3.8.2"
  }
 },
 "nbformat": 4,
 "nbformat_minor": 4
}
